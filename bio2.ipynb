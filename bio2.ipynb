{
 "cells": [
  {
   "cell_type": "markdown",
   "metadata": {},
   "source": [
    "## Task 1"
   ]
  },
  {
   "cell_type": "code",
   "execution_count": 1,
   "metadata": {},
   "outputs": [],
   "source": [
    "import pybedtools\n"
   ]
  },
  {
   "cell_type": "code",
   "execution_count": 2,
   "metadata": {},
   "outputs": [],
   "source": [
    "def autosomal_chromosomes_filter(chromoname):\n",
    "    autosomal_chromosomes = [f'chr{num}' for num in range(1,23)]\n",
    "    return chromoname in autosomal_chromosomes"
   ]
  },
  {
   "cell_type": "code",
   "execution_count": 3,
   "metadata": {},
   "outputs": [],
   "source": [
    "'''\n",
    "filepath:input file path\n",
    "outputpath:output file path\n",
    "vercol: column index of chrXX column\n",
    "begcol: column index of the first column should be stored\n",
    "endcol: column index of the last column should be stored\n",
    "'''\n",
    "def file_filter(filepath,outputpath,vercol,begcol,endcol):\n",
    "    with open(filepath,'r') as f:\n",
    "        lines = f.readlines()\n",
    "    ret = open(outputpath,'w')\n",
    "    for l in lines:\n",
    "        values = l.split()\n",
    "        if autosomal_chromosomes_filter(values[vercol]):\n",
    "            ret.write('\\t'.join(values[begcol:endcol]) + '\\n')\n",
    "    ret.close()\n",
    "    f.close()\n",
    "    "
   ]
  },
  {
   "cell_type": "code",
   "execution_count": 4,
   "metadata": {},
   "outputs": [],
   "source": [
    "file_filter('cpgIslandExt.txt','cpg.bed',1,1,4)"
   ]
  },
  {
   "cell_type": "code",
   "execution_count": 5,
   "metadata": {},
   "outputs": [],
   "source": [
    "file_filter('hg19.chrom.sizes','hg19.autochrom.sizes',0,0,3)"
   ]
  },
  {
   "cell_type": "code",
   "execution_count": 6,
   "metadata": {},
   "outputs": [
    {
     "data": {
      "text/plain": [
       "<BedTool(cpg.bed)>"
      ]
     },
     "execution_count": 6,
     "metadata": {},
     "output_type": "execute_result"
    }
   ],
   "source": [
    "cpg_islands = pybedtools.BedTool('cpg.bed').sort(g='hg19.autochrom.sizes')\n",
    "cpg_islands.saveas('cpg.bed')"
   ]
  },
  {
   "cell_type": "code",
   "execution_count": 7,
   "metadata": {},
   "outputs": [],
   "source": [
    "shore_border = 2000\n",
    "shelf_border = 2000"
   ]
  },
  {
   "cell_type": "code",
   "execution_count": 8,
   "metadata": {},
   "outputs": [],
   "source": [
    "shores = cpg_islands.flank(g='hg19.autochrom.sizes', b=shore_border).subtract(cpg_islands).sort(g='hg19.autochrom.sizes').merge()"
   ]
  },
  {
   "cell_type": "code",
   "execution_count": 9,
   "metadata": {},
   "outputs": [
    {
     "data": {
      "text/plain": [
       "<BedTool(shore.bed)>"
      ]
     },
     "execution_count": 9,
     "metadata": {},
     "output_type": "execute_result"
    }
   ],
   "source": [
    "shores.saveas('shore.bed')"
   ]
  },
  {
   "cell_type": "code",
   "execution_count": 10,
   "metadata": {},
   "outputs": [],
   "source": [
    "shelves = shores.flank(g='hg19.autochrom.sizes', b= shelf_border).subtract(cpg_islands).subtract(shores).sort(g='hg19.autochrom.sizes').merge()"
   ]
  },
  {
   "cell_type": "code",
   "execution_count": 11,
   "metadata": {},
   "outputs": [
    {
     "data": {
      "text/plain": [
       "<BedTool(shelf.bed)>"
      ]
     },
     "execution_count": 11,
     "metadata": {},
     "output_type": "execute_result"
    }
   ],
   "source": [
    "shelves.saveas('shelf.bed')"
   ]
  },
  {
   "cell_type": "code",
   "execution_count": 12,
   "metadata": {},
   "outputs": [],
   "source": [
    "merge_beds = pybedtools.BedTool(list(cpg_islands)+list(shores)+list(shelves))"
   ]
  },
  {
   "cell_type": "code",
   "execution_count": 13,
   "metadata": {},
   "outputs": [],
   "source": [
    "seas = merge_beds.sort(g='hg19.autochrom.sizes').complement(g='hg19.autochrom.sizes').merge()"
   ]
  },
  {
   "cell_type": "code",
   "execution_count": 14,
   "metadata": {},
   "outputs": [
    {
     "data": {
      "text/plain": [
       "<BedTool(sea.bed)>"
      ]
     },
     "execution_count": 14,
     "metadata": {},
     "output_type": "execute_result"
    }
   ],
   "source": [
    "seas.saveas('sea.bed')"
   ]
  },
  {
   "cell_type": "code",
   "execution_count": 15,
   "metadata": {},
   "outputs": [],
   "source": [
    "file_filter('HAIB.A549.EtOH.Rep.3.bed','automethy.bed',0,0,3)"
   ]
  },
  {
   "cell_type": "markdown",
   "metadata": {},
   "source": [
    "## Task 2"
   ]
  },
  {
   "cell_type": "code",
   "execution_count": 16,
   "metadata": {},
   "outputs": [],
   "source": [
    "from pybedtools.featurefuncs import midpoint"
   ]
  },
  {
   "cell_type": "code",
   "execution_count": 17,
   "metadata": {},
   "outputs": [],
   "source": [
    "autosomal_methylation = pybedtools.BedTool([midpoint(m) for m in pybedtools.BedTool('automethy.bed')])"
   ]
  },
  {
   "cell_type": "markdown",
   "metadata": {},
   "source": [
    "## Task 3"
   ]
  },
  {
   "cell_type": "code",
   "execution_count": 18,
   "metadata": {},
   "outputs": [],
   "source": [
    "def get_number(chromosome):\n",
    "    return len(autosomal_methylation.intersect(chromosome))"
   ]
  },
  {
   "cell_type": "code",
   "execution_count": 19,
   "metadata": {},
   "outputs": [],
   "source": [
    "numberlist = []\n",
    "metcpg = get_number(cpg_islands)\n",
    "numberlist.append(metcpg)\n",
    "metshore = get_number(shores)\n",
    "numberlist.append(metshore)\n",
    "metshelf = get_number(shelves)\n",
    "numberlist.append(metshelf)\n",
    "metsea = get_number(seas)\n",
    "numberlist.append(metsea)"
   ]
  },
  {
   "cell_type": "code",
   "execution_count": 20,
   "metadata": {},
   "outputs": [],
   "source": [
    "%matplotlib inline"
   ]
  },
  {
   "cell_type": "code",
   "execution_count": 21,
   "metadata": {},
   "outputs": [
    {
     "data": {
      "image/png": "[encoded data removed]",
      "text/plain": [
       "<Figure size 432x288 with 1 Axes>"
      ]
     },
     "metadata": {
      "needs_background": "light"
     },
     "output_type": "display_data"
    }
   ],
   "source": [
    "import matplotlib.pyplot as plt\n",
    "sumnum = metcpg + metshore + metshelf + metsea\n",
    "metcpgp = metcpg/sumnum\n",
    "metshorep = metshore/sumnum\n",
    "metshelfp = metshelf/sumnum\n",
    "metseap = metsea/sumnum\n",
    "name_list=['cpg_island','shore','shelf','sea']\n",
    "plt.bar(range(len(numberlist)), numberlist, tick_label=name_list)\n",
    "plt.text(0,numberlist[0]+0.05,'%.2f%%'%(metcpgp*100), ha='center', va='bottom',fontsize=17)\n",
    "plt.text(1,numberlist[1]+0.05,'%.2f%%'%(metshorep*100), ha='center', va='bottom',fontsize=17)\n",
    "plt.text(2,numberlist[2]+0.05,'%.2f%%'%(metshelfp*100), ha='center', va='bottom',fontsize=17)\n",
    "plt.text(3,numberlist[3]+0.05,'%.2f%%'%(metseap*100), ha='center', va='bottom',fontsize=17)\n",
    "plt.show()"
   ]
  },
  {
   "cell_type": "code",
   "execution_count": null,
   "metadata": {},
   "outputs": [],
   "source": []
  }
 ],
 "metadata": {
  "kernelspec": {
   "display_name": "Python 3",
   "language": "python",
   "name": "python3"
  },
  "language_info": {
   "codemirror_mode": {
    "name": "ipython",
    "version": 3
   },
   "file_extension": ".py",
   "mimetype": "text/x-python",
   "name": "python",
   "nbconvert_exporter": "python",
   "pygments_lexer": "ipython3",
   "version": "3.7.4"
  }
 },
 "nbformat": 4,
 "nbformat_minor": 2
}
